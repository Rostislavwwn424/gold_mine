{
 "cells": [
  {
   "cell_type": "markdown",
   "id": "c1b5ff21",
   "metadata": {},
   "source": [
    "Gnomes are mining gold periodically reporting their bounty. On this mining operation there were two \n",
    "generation of tools being used, some gnomes were equipped with 1st generation tools, others with 2nd generation.\n",
    "After the introduction of new generation tooling Gnome Inc CEO noticed that performance didn’t match his expectations. You as an analyst of Gnome Inc should confirm or reject CEO worries supporting your findings by cold hard data.\n",
    "\n"
   ]
  },
  {
   "cell_type": "markdown",
   "id": "ab233931",
   "metadata": {},
   "source": [
    "Формулировка основной и альтернативной гипотезы:\n",
    "\n",
    "1)Нулевая гипотеза (H0) – это утверждение статус-кво, что никакой разницы между поколениями инструментов на самом деле нет.\n",
    "\n",
    "2)Альтернативная гипотеза (H1) утверждает, что имеется некоторая разница между поколениями инструментов."
   ]
  },
  {
   "cell_type": "code",
   "execution_count": 2,
   "id": "10a7011e",
   "metadata": {},
   "outputs": [],
   "source": [
    "import pandas as pd\n",
    "import matplotlib.pyplot as plt\n",
    "import numpy as np\n",
    "import seaborn as sns\n",
    "import math\n",
    "from sklearn.linear_model import LinearRegression\n",
    "from sklearn.metrics import r2_score\n",
    "import statsmodels.api as sm"
   ]
  },
  {
   "cell_type": "code",
   "execution_count": 3,
   "id": "64ce3372",
   "metadata": {},
   "outputs": [],
   "source": [
    "data = pd.read_csv('gold_mining_data.csv')"
   ]
  },
  {
   "cell_type": "code",
   "execution_count": 4,
   "id": "cc67c6f1",
   "metadata": {
    "scrolled": true
   },
   "outputs": [
    {
     "data": {
      "text/html": [
       "<div>\n",
       "<style scoped>\n",
       "    .dataframe tbody tr th:only-of-type {\n",
       "        vertical-align: middle;\n",
       "    }\n",
       "\n",
       "    .dataframe tbody tr th {\n",
       "        vertical-align: top;\n",
       "    }\n",
       "\n",
       "    .dataframe thead th {\n",
       "        text-align: right;\n",
       "    }\n",
       "</style>\n",
       "<table border=\"1\" class=\"dataframe\">\n",
       "  <thead>\n",
       "    <tr style=\"text-align: right;\">\n",
       "      <th></th>\n",
       "      <th>dwarf_id</th>\n",
       "      <th>hired_date</th>\n",
       "      <th>reported_date</th>\n",
       "      <th>gold_mined</th>\n",
       "      <th>hammer_date</th>\n",
       "    </tr>\n",
       "  </thead>\n",
       "  <tbody>\n",
       "    <tr>\n",
       "      <th>0</th>\n",
       "      <td>1</td>\n",
       "      <td>2014-01-01</td>\n",
       "      <td>2014-01-31</td>\n",
       "      <td>656</td>\n",
       "      <td>2014-01-01</td>\n",
       "    </tr>\n",
       "    <tr>\n",
       "      <th>1</th>\n",
       "      <td>1</td>\n",
       "      <td>2014-01-01</td>\n",
       "      <td>2014-02-28</td>\n",
       "      <td>565</td>\n",
       "      <td>2014-01-01</td>\n",
       "    </tr>\n",
       "    <tr>\n",
       "      <th>2</th>\n",
       "      <td>1</td>\n",
       "      <td>2014-01-01</td>\n",
       "      <td>2014-03-31</td>\n",
       "      <td>516</td>\n",
       "      <td>2014-01-01</td>\n",
       "    </tr>\n",
       "    <tr>\n",
       "      <th>3</th>\n",
       "      <td>1</td>\n",
       "      <td>2014-01-01</td>\n",
       "      <td>2014-04-30</td>\n",
       "      <td>568</td>\n",
       "      <td>2014-01-01</td>\n",
       "    </tr>\n",
       "    <tr>\n",
       "      <th>4</th>\n",
       "      <td>1</td>\n",
       "      <td>2014-01-01</td>\n",
       "      <td>2014-05-31</td>\n",
       "      <td>556</td>\n",
       "      <td>2014-01-01</td>\n",
       "    </tr>\n",
       "    <tr>\n",
       "      <th>...</th>\n",
       "      <td>...</td>\n",
       "      <td>...</td>\n",
       "      <td>...</td>\n",
       "      <td>...</td>\n",
       "      <td>...</td>\n",
       "    </tr>\n",
       "    <tr>\n",
       "      <th>13488</th>\n",
       "      <td>2673</td>\n",
       "      <td>2015-08-01</td>\n",
       "      <td>2015-08-31</td>\n",
       "      <td>695</td>\n",
       "      <td>2015-01-01</td>\n",
       "    </tr>\n",
       "    <tr>\n",
       "      <th>13489</th>\n",
       "      <td>2674</td>\n",
       "      <td>2015-08-01</td>\n",
       "      <td>2015-08-31</td>\n",
       "      <td>573</td>\n",
       "      <td>2015-01-01</td>\n",
       "    </tr>\n",
       "    <tr>\n",
       "      <th>13490</th>\n",
       "      <td>2675</td>\n",
       "      <td>2015-08-01</td>\n",
       "      <td>2015-08-31</td>\n",
       "      <td>617</td>\n",
       "      <td>2015-01-01</td>\n",
       "    </tr>\n",
       "    <tr>\n",
       "      <th>13491</th>\n",
       "      <td>2676</td>\n",
       "      <td>2015-08-01</td>\n",
       "      <td>2015-08-31</td>\n",
       "      <td>609</td>\n",
       "      <td>2015-01-01</td>\n",
       "    </tr>\n",
       "    <tr>\n",
       "      <th>13492</th>\n",
       "      <td>2677</td>\n",
       "      <td>2015-08-01</td>\n",
       "      <td>2015-08-31</td>\n",
       "      <td>622</td>\n",
       "      <td>2015-01-01</td>\n",
       "    </tr>\n",
       "  </tbody>\n",
       "</table>\n",
       "<p>13493 rows × 5 columns</p>\n",
       "</div>"
      ],
      "text/plain": [
       "       dwarf_id  hired_date reported_date  gold_mined hammer_date\n",
       "0             1  2014-01-01    2014-01-31         656  2014-01-01\n",
       "1             1  2014-01-01    2014-02-28         565  2014-01-01\n",
       "2             1  2014-01-01    2014-03-31         516  2014-01-01\n",
       "3             1  2014-01-01    2014-04-30         568  2014-01-01\n",
       "4             1  2014-01-01    2014-05-31         556  2014-01-01\n",
       "...         ...         ...           ...         ...         ...\n",
       "13488      2673  2015-08-01    2015-08-31         695  2015-01-01\n",
       "13489      2674  2015-08-01    2015-08-31         573  2015-01-01\n",
       "13490      2675  2015-08-01    2015-08-31         617  2015-01-01\n",
       "13491      2676  2015-08-01    2015-08-31         609  2015-01-01\n",
       "13492      2677  2015-08-01    2015-08-31         622  2015-01-01\n",
       "\n",
       "[13493 rows x 5 columns]"
      ]
     },
     "execution_count": 4,
     "metadata": {},
     "output_type": "execute_result"
    }
   ],
   "source": [
    "data"
   ]
  },
  {
   "cell_type": "markdown",
   "id": "5795423d",
   "metadata": {},
   "source": [
    "Немного изменим формат наших данных:\n",
    "Превратим hammer_date в tool_generation, тип данных в столбцах reported_date и hired_date изменим на datetime и получим с их помощью новый столбец work_experience."
   ]
  },
  {
   "cell_type": "code",
   "execution_count": 5,
   "id": "a60aec88",
   "metadata": {},
   "outputs": [],
   "source": [
    "data['hammer_date'].replace(to_replace='2014-01-01', value=0, regex=True, inplace=True)\n",
    "data['hammer_date'].replace(to_replace='2015-01-01', value=1, regex=True, inplace=True)\n",
    "data['reported_date'] = pd.to_datetime(data['reported_date'], format=\"%Y-%m-%d\")\n",
    "data['hired_date'] = pd.to_datetime(data['hired_date'], format=\"%Y-%m-%d\")\n",
    "data['work_experience'] = (data['reported_date'] - data['hired_date']).dt.total_seconds()/(24*60*60)\n",
    "new_columns = data.columns.values\n",
    "new_columns[4] = 'tool_generation'\n",
    "data.columns = new_columns"
   ]
  },
  {
   "cell_type": "code",
   "execution_count": 6,
   "id": "84194823",
   "metadata": {
    "scrolled": true
   },
   "outputs": [
    {
     "data": {
      "text/html": [
       "<div>\n",
       "<style scoped>\n",
       "    .dataframe tbody tr th:only-of-type {\n",
       "        vertical-align: middle;\n",
       "    }\n",
       "\n",
       "    .dataframe tbody tr th {\n",
       "        vertical-align: top;\n",
       "    }\n",
       "\n",
       "    .dataframe thead th {\n",
       "        text-align: right;\n",
       "    }\n",
       "</style>\n",
       "<table border=\"1\" class=\"dataframe\">\n",
       "  <thead>\n",
       "    <tr style=\"text-align: right;\">\n",
       "      <th></th>\n",
       "      <th>dwarf_id</th>\n",
       "      <th>reported_date</th>\n",
       "      <th>gold_mined</th>\n",
       "      <th>tool_generation</th>\n",
       "      <th>work_experience</th>\n",
       "    </tr>\n",
       "  </thead>\n",
       "  <tbody>\n",
       "    <tr>\n",
       "      <th>0</th>\n",
       "      <td>1</td>\n",
       "      <td>2014-01-31</td>\n",
       "      <td>656</td>\n",
       "      <td>0</td>\n",
       "      <td>30.0</td>\n",
       "    </tr>\n",
       "    <tr>\n",
       "      <th>1</th>\n",
       "      <td>1</td>\n",
       "      <td>2014-02-28</td>\n",
       "      <td>565</td>\n",
       "      <td>0</td>\n",
       "      <td>58.0</td>\n",
       "    </tr>\n",
       "    <tr>\n",
       "      <th>2</th>\n",
       "      <td>1</td>\n",
       "      <td>2014-03-31</td>\n",
       "      <td>516</td>\n",
       "      <td>0</td>\n",
       "      <td>89.0</td>\n",
       "    </tr>\n",
       "    <tr>\n",
       "      <th>3</th>\n",
       "      <td>1</td>\n",
       "      <td>2014-04-30</td>\n",
       "      <td>568</td>\n",
       "      <td>0</td>\n",
       "      <td>119.0</td>\n",
       "    </tr>\n",
       "    <tr>\n",
       "      <th>4</th>\n",
       "      <td>1</td>\n",
       "      <td>2014-05-31</td>\n",
       "      <td>556</td>\n",
       "      <td>0</td>\n",
       "      <td>150.0</td>\n",
       "    </tr>\n",
       "    <tr>\n",
       "      <th>...</th>\n",
       "      <td>...</td>\n",
       "      <td>...</td>\n",
       "      <td>...</td>\n",
       "      <td>...</td>\n",
       "      <td>...</td>\n",
       "    </tr>\n",
       "    <tr>\n",
       "      <th>13488</th>\n",
       "      <td>2673</td>\n",
       "      <td>2015-08-31</td>\n",
       "      <td>695</td>\n",
       "      <td>1</td>\n",
       "      <td>30.0</td>\n",
       "    </tr>\n",
       "    <tr>\n",
       "      <th>13489</th>\n",
       "      <td>2674</td>\n",
       "      <td>2015-08-31</td>\n",
       "      <td>573</td>\n",
       "      <td>1</td>\n",
       "      <td>30.0</td>\n",
       "    </tr>\n",
       "    <tr>\n",
       "      <th>13490</th>\n",
       "      <td>2675</td>\n",
       "      <td>2015-08-31</td>\n",
       "      <td>617</td>\n",
       "      <td>1</td>\n",
       "      <td>30.0</td>\n",
       "    </tr>\n",
       "    <tr>\n",
       "      <th>13491</th>\n",
       "      <td>2676</td>\n",
       "      <td>2015-08-31</td>\n",
       "      <td>609</td>\n",
       "      <td>1</td>\n",
       "      <td>30.0</td>\n",
       "    </tr>\n",
       "    <tr>\n",
       "      <th>13492</th>\n",
       "      <td>2677</td>\n",
       "      <td>2015-08-31</td>\n",
       "      <td>622</td>\n",
       "      <td>1</td>\n",
       "      <td>30.0</td>\n",
       "    </tr>\n",
       "  </tbody>\n",
       "</table>\n",
       "<p>13493 rows × 5 columns</p>\n",
       "</div>"
      ],
      "text/plain": [
       "       dwarf_id reported_date  gold_mined  tool_generation  work_experience\n",
       "0             1    2014-01-31         656                0             30.0\n",
       "1             1    2014-02-28         565                0             58.0\n",
       "2             1    2014-03-31         516                0             89.0\n",
       "3             1    2014-04-30         568                0            119.0\n",
       "4             1    2014-05-31         556                0            150.0\n",
       "...         ...           ...         ...              ...              ...\n",
       "13488      2673    2015-08-31         695                1             30.0\n",
       "13489      2674    2015-08-31         573                1             30.0\n",
       "13490      2675    2015-08-31         617                1             30.0\n",
       "13491      2676    2015-08-31         609                1             30.0\n",
       "13492      2677    2015-08-31         622                1             30.0\n",
       "\n",
       "[13493 rows x 5 columns]"
      ]
     },
     "execution_count": 6,
     "metadata": {},
     "output_type": "execute_result"
    }
   ],
   "source": [
    "new_columns_list = list(new_columns)\n",
    "new_columns_list.remove('hired_date')\n",
    "old_data = data\n",
    "data = data[new_columns_list]\n",
    "data"
   ]
  },
  {
   "cell_type": "markdown",
   "id": "4bb2d6cd",
   "metadata": {},
   "source": [
    "Визуально оценим тип распределения данных:"
   ]
  },
  {
   "cell_type": "code",
   "execution_count": 7,
   "id": "b85ddbb7",
   "metadata": {},
   "outputs": [
    {
     "data": {
      "text/plain": [
       "<AxesSubplot:>"
      ]
     },
     "execution_count": 7,
     "metadata": {},
     "output_type": "execute_result"
    },
    {
     "data": {
      "image/png": "[encoded data removed]",
      "text/plain": [
       "<Figure size 432x288 with 1 Axes>"
      ]
     },
     "metadata": {
      "needs_background": "light"
     },
     "output_type": "display_data"
    }
   ],
   "source": [
    "data['gold_mined'].hist(bins = 20)"
   ]
  },
  {
   "cell_type": "code",
   "execution_count": 8,
   "id": "0c94b3af",
   "metadata": {},
   "outputs": [
    {
     "data": {
      "text/plain": [
       "<AxesSubplot:>"
      ]
     },
     "execution_count": 8,
     "metadata": {},
     "output_type": "execute_result"
    },
    {
     "data": {
      "image/png": "[encoded data removed]",
      "text/plain": [
       "<Figure size 432x288 with 1 Axes>"
      ]
     },
     "metadata": {
      "needs_background": "light"
     },
     "output_type": "display_data"
    }
   ],
   "source": [
    "data[data['tool_generation'] == 0]['gold_mined'].hist(bins = 20)"
   ]
  },
  {
   "cell_type": "code",
   "execution_count": 9,
   "id": "de2f9768",
   "metadata": {
    "scrolled": true
   },
   "outputs": [
    {
     "data": {
      "text/plain": [
       "<AxesSubplot:>"
      ]
     },
     "execution_count": 9,
     "metadata": {},
     "output_type": "execute_result"
    },
    {
     "data": {
      "image/png": "[encoded data removed]",
      "text/plain": [
       "<Figure size 432x288 with 1 Axes>"
      ]
     },
     "metadata": {
      "needs_background": "light"
     },
     "output_type": "display_data"
    }
   ],
   "source": [
    "data[data['tool_generation'] == 1]['gold_mined'].hist(bins = 20)"
   ]
  },
  {
   "cell_type": "markdown",
   "id": "f0924ba4",
   "metadata": {},
   "source": [
    "Распределение похоже на нормальное."
   ]
  },
  {
   "cell_type": "markdown",
   "id": "0edb2d17",
   "metadata": {},
   "source": [
    "Более детально рассмотрим параметры распределения для каждого из поколений инструмента."
   ]
  },
  {
   "cell_type": "code",
   "execution_count": 10,
   "id": "3c7f47e2",
   "metadata": {},
   "outputs": [
    {
     "data": {
      "text/html": [
       "<div>\n",
       "<style scoped>\n",
       "    .dataframe tbody tr th:only-of-type {\n",
       "        vertical-align: middle;\n",
       "    }\n",
       "\n",
       "    .dataframe tbody tr th {\n",
       "        vertical-align: top;\n",
       "    }\n",
       "\n",
       "    .dataframe thead th {\n",
       "        text-align: right;\n",
       "    }\n",
       "</style>\n",
       "<table border=\"1\" class=\"dataframe\">\n",
       "  <thead>\n",
       "    <tr style=\"text-align: right;\">\n",
       "      <th></th>\n",
       "      <th>mean</th>\n",
       "      <th>count</th>\n",
       "      <th>std</th>\n",
       "      <th>ci95_hi</th>\n",
       "      <th>ci95_lo</th>\n",
       "      <th>gold_mined_p_std</th>\n",
       "      <th>gold_mined_m_std</th>\n",
       "    </tr>\n",
       "    <tr>\n",
       "      <th>tool_generation</th>\n",
       "      <th></th>\n",
       "      <th></th>\n",
       "      <th></th>\n",
       "      <th></th>\n",
       "      <th></th>\n",
       "      <th></th>\n",
       "      <th></th>\n",
       "    </tr>\n",
       "  </thead>\n",
       "  <tbody>\n",
       "    <tr>\n",
       "      <th>0</th>\n",
       "      <td>537.112292</td>\n",
       "      <td>6777</td>\n",
       "      <td>52.587743</td>\n",
       "      <td>538.364342</td>\n",
       "      <td>535.860241</td>\n",
       "      <td>589.700035</td>\n",
       "      <td>484.524549</td>\n",
       "    </tr>\n",
       "    <tr>\n",
       "      <th>1</th>\n",
       "      <td>609.660810</td>\n",
       "      <td>6716</td>\n",
       "      <td>42.881518</td>\n",
       "      <td>610.686393</td>\n",
       "      <td>608.635227</td>\n",
       "      <td>652.542328</td>\n",
       "      <td>566.779292</td>\n",
       "    </tr>\n",
       "  </tbody>\n",
       "</table>\n",
       "</div>"
      ],
      "text/plain": [
       "                       mean  count        std     ci95_hi     ci95_lo  \\\n",
       "tool_generation                                                         \n",
       "0                537.112292   6777  52.587743  538.364342  535.860241   \n",
       "1                609.660810   6716  42.881518  610.686393  608.635227   \n",
       "\n",
       "                 gold_mined_p_std  gold_mined_m_std  \n",
       "tool_generation                                      \n",
       "0                      589.700035        484.524549  \n",
       "1                      652.542328        566.779292  "
      ]
     },
     "execution_count": 10,
     "metadata": {},
     "output_type": "execute_result"
    }
   ],
   "source": [
    "stats = data.groupby(['tool_generation'])['gold_mined'].agg(['mean', 'count', 'std'])\n",
    "ci95_hi = []\n",
    "ci95_lo = []\n",
    "gold_mined_p_std = []\n",
    "gold_mined_m_std = []\n",
    "for i in stats.index:\n",
    "    m, c, s = stats.loc[i]\n",
    "    ci95_hi.append(m + 1.96*s/math.sqrt(c))\n",
    "    ci95_lo.append(m - 1.96*s/math.sqrt(c))\n",
    "    gold_mined_p_std.append(m + s)\n",
    "    gold_mined_m_std.append(m - s)\n",
    "    \n",
    "stats['ci95_hi'] = ci95_hi\n",
    "stats['ci95_lo'] = ci95_lo\n",
    "stats['gold_mined_p_std'] = gold_mined_p_std\n",
    "stats['gold_mined_m_std'] = gold_mined_m_std\n",
    "stats"
   ]
  },
  {
   "cell_type": "markdown",
   "id": "7dc7c3ed",
   "metadata": {},
   "source": [
    "Посмотрим на зависимость среднего кол-ва добытого золота от даты добычи:"
   ]
  },
  {
   "cell_type": "code",
   "execution_count": 11,
   "id": "bccd9600",
   "metadata": {},
   "outputs": [
    {
     "data": {
      "text/plain": [
       "<AxesSubplot:xlabel='reported_date'>"
      ]
     },
     "execution_count": 11,
     "metadata": {},
     "output_type": "execute_result"
    },
    {
     "data": {
      "image/png": "[encoded data removed]",
      "text/plain": [
       "<Figure size 432x288 with 1 Axes>"
      ]
     },
     "metadata": {
      "needs_background": "light"
     },
     "output_type": "display_data"
    }
   ],
   "source": [
    "data.groupby(['reported_date'])['gold_mined'].mean().plot()\n",
    "data[data['tool_generation'] == 0].groupby(['reported_date'])['gold_mined'].mean().plot()\n",
    "data[data['tool_generation'] == 1].groupby(['reported_date'])['gold_mined'].mean().plot()"
   ]
  },
  {
   "cell_type": "markdown",
   "id": "bc637616",
   "metadata": {},
   "source": [
    "Похоже что со временем запасы в шахте истощаются и добывать золото становиться труднее.\n",
    "Добавим счетчик который будет считать какой идет день работы шахты."
   ]
  },
  {
   "cell_type": "code",
   "execution_count": 12,
   "id": "23100db2",
   "metadata": {},
   "outputs": [
    {
     "data": {
      "text/html": [
       "<div>\n",
       "<style scoped>\n",
       "    .dataframe tbody tr th:only-of-type {\n",
       "        vertical-align: middle;\n",
       "    }\n",
       "\n",
       "    .dataframe tbody tr th {\n",
       "        vertical-align: top;\n",
       "    }\n",
       "\n",
       "    .dataframe thead th {\n",
       "        text-align: right;\n",
       "    }\n",
       "</style>\n",
       "<table border=\"1\" class=\"dataframe\">\n",
       "  <thead>\n",
       "    <tr style=\"text-align: right;\">\n",
       "      <th></th>\n",
       "      <th>dwarf_id</th>\n",
       "      <th>reported_date</th>\n",
       "      <th>gold_mined</th>\n",
       "      <th>tool_generation</th>\n",
       "      <th>work_experience</th>\n",
       "      <th>days_count</th>\n",
       "    </tr>\n",
       "  </thead>\n",
       "  <tbody>\n",
       "    <tr>\n",
       "      <th>0</th>\n",
       "      <td>1</td>\n",
       "      <td>2014-01-31</td>\n",
       "      <td>656</td>\n",
       "      <td>0</td>\n",
       "      <td>30.0</td>\n",
       "      <td>30.0</td>\n",
       "    </tr>\n",
       "    <tr>\n",
       "      <th>1</th>\n",
       "      <td>1</td>\n",
       "      <td>2014-02-28</td>\n",
       "      <td>565</td>\n",
       "      <td>0</td>\n",
       "      <td>58.0</td>\n",
       "      <td>58.0</td>\n",
       "    </tr>\n",
       "    <tr>\n",
       "      <th>2</th>\n",
       "      <td>1</td>\n",
       "      <td>2014-03-31</td>\n",
       "      <td>516</td>\n",
       "      <td>0</td>\n",
       "      <td>89.0</td>\n",
       "      <td>89.0</td>\n",
       "    </tr>\n",
       "    <tr>\n",
       "      <th>3</th>\n",
       "      <td>1</td>\n",
       "      <td>2014-04-30</td>\n",
       "      <td>568</td>\n",
       "      <td>0</td>\n",
       "      <td>119.0</td>\n",
       "      <td>119.0</td>\n",
       "    </tr>\n",
       "    <tr>\n",
       "      <th>4</th>\n",
       "      <td>1</td>\n",
       "      <td>2014-05-31</td>\n",
       "      <td>556</td>\n",
       "      <td>0</td>\n",
       "      <td>150.0</td>\n",
       "      <td>150.0</td>\n",
       "    </tr>\n",
       "    <tr>\n",
       "      <th>...</th>\n",
       "      <td>...</td>\n",
       "      <td>...</td>\n",
       "      <td>...</td>\n",
       "      <td>...</td>\n",
       "      <td>...</td>\n",
       "      <td>...</td>\n",
       "    </tr>\n",
       "    <tr>\n",
       "      <th>13488</th>\n",
       "      <td>2673</td>\n",
       "      <td>2015-08-31</td>\n",
       "      <td>695</td>\n",
       "      <td>1</td>\n",
       "      <td>30.0</td>\n",
       "      <td>607.0</td>\n",
       "    </tr>\n",
       "    <tr>\n",
       "      <th>13489</th>\n",
       "      <td>2674</td>\n",
       "      <td>2015-08-31</td>\n",
       "      <td>573</td>\n",
       "      <td>1</td>\n",
       "      <td>30.0</td>\n",
       "      <td>607.0</td>\n",
       "    </tr>\n",
       "    <tr>\n",
       "      <th>13490</th>\n",
       "      <td>2675</td>\n",
       "      <td>2015-08-31</td>\n",
       "      <td>617</td>\n",
       "      <td>1</td>\n",
       "      <td>30.0</td>\n",
       "      <td>607.0</td>\n",
       "    </tr>\n",
       "    <tr>\n",
       "      <th>13491</th>\n",
       "      <td>2676</td>\n",
       "      <td>2015-08-31</td>\n",
       "      <td>609</td>\n",
       "      <td>1</td>\n",
       "      <td>30.0</td>\n",
       "      <td>607.0</td>\n",
       "    </tr>\n",
       "    <tr>\n",
       "      <th>13492</th>\n",
       "      <td>2677</td>\n",
       "      <td>2015-08-31</td>\n",
       "      <td>622</td>\n",
       "      <td>1</td>\n",
       "      <td>30.0</td>\n",
       "      <td>607.0</td>\n",
       "    </tr>\n",
       "  </tbody>\n",
       "</table>\n",
       "<p>13493 rows × 6 columns</p>\n",
       "</div>"
      ],
      "text/plain": [
       "       dwarf_id reported_date  gold_mined  tool_generation  work_experience  \\\n",
       "0             1    2014-01-31         656                0             30.0   \n",
       "1             1    2014-02-28         565                0             58.0   \n",
       "2             1    2014-03-31         516                0             89.0   \n",
       "3             1    2014-04-30         568                0            119.0   \n",
       "4             1    2014-05-31         556                0            150.0   \n",
       "...         ...           ...         ...              ...              ...   \n",
       "13488      2673    2015-08-31         695                1             30.0   \n",
       "13489      2674    2015-08-31         573                1             30.0   \n",
       "13490      2675    2015-08-31         617                1             30.0   \n",
       "13491      2676    2015-08-31         609                1             30.0   \n",
       "13492      2677    2015-08-31         622                1             30.0   \n",
       "\n",
       "       days_count  \n",
       "0            30.0  \n",
       "1            58.0  \n",
       "2            89.0  \n",
       "3           119.0  \n",
       "4           150.0  \n",
       "...           ...  \n",
       "13488       607.0  \n",
       "13489       607.0  \n",
       "13490       607.0  \n",
       "13491       607.0  \n",
       "13492       607.0  \n",
       "\n",
       "[13493 rows x 6 columns]"
      ]
     },
     "execution_count": 12,
     "metadata": {},
     "output_type": "execute_result"
    }
   ],
   "source": [
    "data['days_count'] = (data['reported_date'] - pd.to_datetime('2014-01-01', format=\"%Y-%m-%d\")).dt.total_seconds()/(24*60*60)\n",
    "data"
   ]
  },
  {
   "cell_type": "markdown",
   "id": "2c4df6d4",
   "metadata": {},
   "source": [
    "Посмотрим как коррелируют между собой переменные:"
   ]
  },
  {
   "cell_type": "code",
   "execution_count": 13,
   "id": "cda96841",
   "metadata": {},
   "outputs": [
    {
     "data": {
      "text/plain": [
       "<AxesSubplot:>"
      ]
     },
     "execution_count": 13,
     "metadata": {},
     "output_type": "execute_result"
    },
    {
     "data": {
      "image/png": "[encoded data removed]",
      "text/plain": [
       "<Figure size 432x288 with 2 Axes>"
      ]
     },
     "metadata": {
      "needs_background": "light"
     },
     "output_type": "display_data"
    }
   ],
   "source": [
    "sns.heatmap(data[data['tool_generation'] == 0][['gold_mined', 'work_experience', 'days_count']].corr())"
   ]
  },
  {
   "cell_type": "code",
   "execution_count": 80,
   "id": "89fd83a1",
   "metadata": {},
   "outputs": [
    {
     "data": {
      "text/plain": [
       "<AxesSubplot:>"
      ]
     },
     "execution_count": 80,
     "metadata": {},
     "output_type": "execute_result"
    },
    {
     "data": {
      "image/png": "[encoded data removed]",
      "text/plain": [
       "<Figure size 432x288 with 2 Axes>"
      ]
     },
     "metadata": {
      "needs_background": "light"
     },
     "output_type": "display_data"
    }
   ],
   "source": [
    "sns.heatmap(data[data['tool_generation'] == 1][['gold_mined', 'work_experience', 'days_count']].corr())"
   ]
  },
  {
   "cell_type": "markdown",
   "id": "03cadfed",
   "metadata": {},
   "source": [
    "Можно отметить только странную, достаточно сильную обратную корреляцию между опытом работы и добытым золотом."
   ]
  },
  {
   "cell_type": "markdown",
   "id": "e5f6ee02",
   "metadata": {},
   "source": [
    "Возможно количество добываемого золота может зависить от времени года, извлечем из reported_date номер месяца в формате который будет удобно использовать для обучения модели линейной регрессии:"
   ]
  },
  {
   "cell_type": "code",
   "execution_count": 14,
   "id": "38c012e1",
   "metadata": {
    "scrolled": true
   },
   "outputs": [
    {
     "data": {
      "text/html": [
       "<div>\n",
       "<style scoped>\n",
       "    .dataframe tbody tr th:only-of-type {\n",
       "        vertical-align: middle;\n",
       "    }\n",
       "\n",
       "    .dataframe tbody tr th {\n",
       "        vertical-align: top;\n",
       "    }\n",
       "\n",
       "    .dataframe thead th {\n",
       "        text-align: right;\n",
       "    }\n",
       "</style>\n",
       "<table border=\"1\" class=\"dataframe\">\n",
       "  <thead>\n",
       "    <tr style=\"text-align: right;\">\n",
       "      <th></th>\n",
       "      <th>dwarf_id</th>\n",
       "      <th>reported_date</th>\n",
       "      <th>gold_mined</th>\n",
       "      <th>tool_generation</th>\n",
       "      <th>work_experience</th>\n",
       "      <th>days_count</th>\n",
       "      <th>1</th>\n",
       "      <th>2</th>\n",
       "      <th>3</th>\n",
       "      <th>4</th>\n",
       "      <th>5</th>\n",
       "      <th>6</th>\n",
       "      <th>7</th>\n",
       "      <th>8</th>\n",
       "      <th>9</th>\n",
       "      <th>10</th>\n",
       "      <th>11</th>\n",
       "      <th>12</th>\n",
       "    </tr>\n",
       "  </thead>\n",
       "  <tbody>\n",
       "    <tr>\n",
       "      <th>0</th>\n",
       "      <td>1</td>\n",
       "      <td>2014-01-31</td>\n",
       "      <td>656</td>\n",
       "      <td>0</td>\n",
       "      <td>30.0</td>\n",
       "      <td>30.0</td>\n",
       "      <td>1</td>\n",
       "      <td>0</td>\n",
       "      <td>0</td>\n",
       "      <td>0</td>\n",
       "      <td>0</td>\n",
       "      <td>0</td>\n",
       "      <td>0</td>\n",
       "      <td>0</td>\n",
       "      <td>0</td>\n",
       "      <td>0</td>\n",
       "      <td>0</td>\n",
       "      <td>0</td>\n",
       "    </tr>\n",
       "    <tr>\n",
       "      <th>1</th>\n",
       "      <td>1</td>\n",
       "      <td>2014-02-28</td>\n",
       "      <td>565</td>\n",
       "      <td>0</td>\n",
       "      <td>58.0</td>\n",
       "      <td>58.0</td>\n",
       "      <td>0</td>\n",
       "      <td>1</td>\n",
       "      <td>0</td>\n",
       "      <td>0</td>\n",
       "      <td>0</td>\n",
       "      <td>0</td>\n",
       "      <td>0</td>\n",
       "      <td>0</td>\n",
       "      <td>0</td>\n",
       "      <td>0</td>\n",
       "      <td>0</td>\n",
       "      <td>0</td>\n",
       "    </tr>\n",
       "    <tr>\n",
       "      <th>2</th>\n",
       "      <td>1</td>\n",
       "      <td>2014-03-31</td>\n",
       "      <td>516</td>\n",
       "      <td>0</td>\n",
       "      <td>89.0</td>\n",
       "      <td>89.0</td>\n",
       "      <td>0</td>\n",
       "      <td>0</td>\n",
       "      <td>1</td>\n",
       "      <td>0</td>\n",
       "      <td>0</td>\n",
       "      <td>0</td>\n",
       "      <td>0</td>\n",
       "      <td>0</td>\n",
       "      <td>0</td>\n",
       "      <td>0</td>\n",
       "      <td>0</td>\n",
       "      <td>0</td>\n",
       "    </tr>\n",
       "    <tr>\n",
       "      <th>3</th>\n",
       "      <td>1</td>\n",
       "      <td>2014-04-30</td>\n",
       "      <td>568</td>\n",
       "      <td>0</td>\n",
       "      <td>119.0</td>\n",
       "      <td>119.0</td>\n",
       "      <td>0</td>\n",
       "      <td>0</td>\n",
       "      <td>0</td>\n",
       "      <td>1</td>\n",
       "      <td>0</td>\n",
       "      <td>0</td>\n",
       "      <td>0</td>\n",
       "      <td>0</td>\n",
       "      <td>0</td>\n",
       "      <td>0</td>\n",
       "      <td>0</td>\n",
       "      <td>0</td>\n",
       "    </tr>\n",
       "    <tr>\n",
       "      <th>4</th>\n",
       "      <td>1</td>\n",
       "      <td>2014-05-31</td>\n",
       "      <td>556</td>\n",
       "      <td>0</td>\n",
       "      <td>150.0</td>\n",
       "      <td>150.0</td>\n",
       "      <td>0</td>\n",
       "      <td>0</td>\n",
       "      <td>0</td>\n",
       "      <td>0</td>\n",
       "      <td>1</td>\n",
       "      <td>0</td>\n",
       "      <td>0</td>\n",
       "      <td>0</td>\n",
       "      <td>0</td>\n",
       "      <td>0</td>\n",
       "      <td>0</td>\n",
       "      <td>0</td>\n",
       "    </tr>\n",
       "    <tr>\n",
       "      <th>...</th>\n",
       "      <td>...</td>\n",
       "      <td>...</td>\n",
       "      <td>...</td>\n",
       "      <td>...</td>\n",
       "      <td>...</td>\n",
       "      <td>...</td>\n",
       "      <td>...</td>\n",
       "      <td>...</td>\n",
       "      <td>...</td>\n",
       "      <td>...</td>\n",
       "      <td>...</td>\n",
       "      <td>...</td>\n",
       "      <td>...</td>\n",
       "      <td>...</td>\n",
       "      <td>...</td>\n",
       "      <td>...</td>\n",
       "      <td>...</td>\n",
       "      <td>...</td>\n",
       "    </tr>\n",
       "    <tr>\n",
       "      <th>13488</th>\n",
       "      <td>2673</td>\n",
       "      <td>2015-08-31</td>\n",
       "      <td>695</td>\n",
       "      <td>1</td>\n",
       "      <td>30.0</td>\n",
       "      <td>607.0</td>\n",
       "      <td>0</td>\n",
       "      <td>0</td>\n",
       "      <td>0</td>\n",
       "      <td>0</td>\n",
       "      <td>0</td>\n",
       "      <td>0</td>\n",
       "      <td>0</td>\n",
       "      <td>1</td>\n",
       "      <td>0</td>\n",
       "      <td>0</td>\n",
       "      <td>0</td>\n",
       "      <td>0</td>\n",
       "    </tr>\n",
       "    <tr>\n",
       "      <th>13489</th>\n",
       "      <td>2674</td>\n",
       "      <td>2015-08-31</td>\n",
       "      <td>573</td>\n",
       "      <td>1</td>\n",
       "      <td>30.0</td>\n",
       "      <td>607.0</td>\n",
       "      <td>0</td>\n",
       "      <td>0</td>\n",
       "      <td>0</td>\n",
       "      <td>0</td>\n",
       "      <td>0</td>\n",
       "      <td>0</td>\n",
       "      <td>0</td>\n",
       "      <td>1</td>\n",
       "      <td>0</td>\n",
       "      <td>0</td>\n",
       "      <td>0</td>\n",
       "      <td>0</td>\n",
       "    </tr>\n",
       "    <tr>\n",
       "      <th>13490</th>\n",
       "      <td>2675</td>\n",
       "      <td>2015-08-31</td>\n",
       "      <td>617</td>\n",
       "      <td>1</td>\n",
       "      <td>30.0</td>\n",
       "      <td>607.0</td>\n",
       "      <td>0</td>\n",
       "      <td>0</td>\n",
       "      <td>0</td>\n",
       "      <td>0</td>\n",
       "      <td>0</td>\n",
       "      <td>0</td>\n",
       "      <td>0</td>\n",
       "      <td>1</td>\n",
       "      <td>0</td>\n",
       "      <td>0</td>\n",
       "      <td>0</td>\n",
       "      <td>0</td>\n",
       "    </tr>\n",
       "    <tr>\n",
       "      <th>13491</th>\n",
       "      <td>2676</td>\n",
       "      <td>2015-08-31</td>\n",
       "      <td>609</td>\n",
       "      <td>1</td>\n",
       "      <td>30.0</td>\n",
       "      <td>607.0</td>\n",
       "      <td>0</td>\n",
       "      <td>0</td>\n",
       "      <td>0</td>\n",
       "      <td>0</td>\n",
       "      <td>0</td>\n",
       "      <td>0</td>\n",
       "      <td>0</td>\n",
       "      <td>1</td>\n",
       "      <td>0</td>\n",
       "      <td>0</td>\n",
       "      <td>0</td>\n",
       "      <td>0</td>\n",
       "    </tr>\n",
       "    <tr>\n",
       "      <th>13492</th>\n",
       "      <td>2677</td>\n",
       "      <td>2015-08-31</td>\n",
       "      <td>622</td>\n",
       "      <td>1</td>\n",
       "      <td>30.0</td>\n",
       "      <td>607.0</td>\n",
       "      <td>0</td>\n",
       "      <td>0</td>\n",
       "      <td>0</td>\n",
       "      <td>0</td>\n",
       "      <td>0</td>\n",
       "      <td>0</td>\n",
       "      <td>0</td>\n",
       "      <td>1</td>\n",
       "      <td>0</td>\n",
       "      <td>0</td>\n",
       "      <td>0</td>\n",
       "      <td>0</td>\n",
       "    </tr>\n",
       "  </tbody>\n",
       "</table>\n",
       "<p>13493 rows × 18 columns</p>\n",
       "</div>"
      ],
      "text/plain": [
       "       dwarf_id reported_date  gold_mined  tool_generation  work_experience  \\\n",
       "0             1    2014-01-31         656                0             30.0   \n",
       "1             1    2014-02-28         565                0             58.0   \n",
       "2             1    2014-03-31         516                0             89.0   \n",
       "3             1    2014-04-30         568                0            119.0   \n",
       "4             1    2014-05-31         556                0            150.0   \n",
       "...         ...           ...         ...              ...              ...   \n",
       "13488      2673    2015-08-31         695                1             30.0   \n",
       "13489      2674    2015-08-31         573                1             30.0   \n",
       "13490      2675    2015-08-31         617                1             30.0   \n",
       "13491      2676    2015-08-31         609                1             30.0   \n",
       "13492      2677    2015-08-31         622                1             30.0   \n",
       "\n",
       "       days_count  1  2  3  4  5  6  7  8  9  10  11  12  \n",
       "0            30.0  1  0  0  0  0  0  0  0  0   0   0   0  \n",
       "1            58.0  0  1  0  0  0  0  0  0  0   0   0   0  \n",
       "2            89.0  0  0  1  0  0  0  0  0  0   0   0   0  \n",
       "3           119.0  0  0  0  1  0  0  0  0  0   0   0   0  \n",
       "4           150.0  0  0  0  0  1  0  0  0  0   0   0   0  \n",
       "...           ... .. .. .. .. .. .. .. .. ..  ..  ..  ..  \n",
       "13488       607.0  0  0  0  0  0  0  0  1  0   0   0   0  \n",
       "13489       607.0  0  0  0  0  0  0  0  1  0   0   0   0  \n",
       "13490       607.0  0  0  0  0  0  0  0  1  0   0   0   0  \n",
       "13491       607.0  0  0  0  0  0  0  0  1  0   0   0   0  \n",
       "13492       607.0  0  0  0  0  0  0  0  1  0   0   0   0  \n",
       "\n",
       "[13493 rows x 18 columns]"
      ]
     },
     "execution_count": 14,
     "metadata": {},
     "output_type": "execute_result"
    }
   ],
   "source": [
    "for i in range(1, 13):\n",
    "    data[f'{i}'] = (data['reported_date'].apply(lambda x: x.month) == i).astype(int)\n",
    "    \n",
    "data"
   ]
  },
  {
   "cell_type": "markdown",
   "id": "e0068ae5",
   "metadata": {},
   "source": [
    "Обучим модель линейной регресии и посмотрим насколько хорошо она предсказывает наши данные."
   ]
  },
  {
   "cell_type": "code",
   "execution_count": 112,
   "id": "5a010c0f",
   "metadata": {},
   "outputs": [
    {
     "data": {
      "image/png": "[encoded data removed]",
      "text/plain": [
       "<Figure size 432x288 with 1 Axes>"
      ]
     },
     "metadata": {
      "needs_background": "light"
     },
     "output_type": "display_data"
    }
   ],
   "source": [
    "x = data.iloc[:, -15:]\n",
    "x_test = data.iloc[:, -15:-12]\n",
    "y = data['gold_mined']\n",
    "y_pred = LinearRegression().fit(x, y).predict(x)\n",
    "(y_pred - y).hist(bins = 20)\n",
    "y_pred_test = LinearRegression().fit(x_test, y).predict(x_test)\n"
   ]
  },
  {
   "cell_type": "code",
   "execution_count": 113,
   "id": "e04f6145",
   "metadata": {},
   "outputs": [
    {
     "data": {
      "text/plain": [
       "<AxesSubplot:>"
      ]
     },
     "execution_count": 113,
     "metadata": {},
     "output_type": "execute_result"
    },
    {
     "data": {
      "image/png": "[encoded data removed]",
      "text/plain": [
       "<Figure size 432x288 with 1 Axes>"
      ]
     },
     "metadata": {
      "needs_background": "light"
     },
     "output_type": "display_data"
    }
   ],
   "source": [
    "(y_pred_test - y).hist(bins = 20)"
   ]
  },
  {
   "cell_type": "code",
   "execution_count": 114,
   "id": "57e700a5",
   "metadata": {},
   "outputs": [
    {
     "data": {
      "text/plain": [
       "array([16.67684157, -0.38061678,  0.03433962,  2.49556245,  3.05278519,\n",
       "        2.32044987,  0.39403978, -0.41599477, -1.34302294, -1.9901485 ,\n",
       "       -2.69132318,  1.15531963,  0.03860055, -2.21907528, -0.79719282])"
      ]
     },
     "execution_count": 114,
     "metadata": {},
     "output_type": "execute_result"
    }
   ],
   "source": [
    "LinearRegression().fit(x, y).coef_"
   ]
  },
  {
   "cell_type": "code",
   "execution_count": 115,
   "id": "8365d06d",
   "metadata": {},
   "outputs": [
    {
     "data": {
      "text/plain": [
       "array([16.68492156, -0.3796218 ,  0.02715216])"
      ]
     },
     "execution_count": 115,
     "metadata": {},
     "output_type": "execute_result"
    }
   ],
   "source": [
    "LinearRegression().fit(x_test, y).coef_"
   ]
  },
  {
   "cell_type": "code",
   "execution_count": 116,
   "id": "69dc821e",
   "metadata": {},
   "outputs": [
    {
     "data": {
      "text/plain": [
       "0.7371413761592986"
      ]
     },
     "execution_count": 116,
     "metadata": {},
     "output_type": "execute_result"
    }
   ],
   "source": [
    "r2_score(y, y_pred)"
   ]
  },
  {
   "cell_type": "code",
   "execution_count": 117,
   "id": "520e3dfa",
   "metadata": {},
   "outputs": [
    {
     "data": {
      "text/plain": [
       "0.7363917292937313"
      ]
     },
     "execution_count": 117,
     "metadata": {},
     "output_type": "execute_result"
    }
   ],
   "source": [
    "r2_score(y, y_pred_test)"
   ]
  },
  {
   "cell_type": "code",
   "execution_count": 118,
   "id": "5246b1b5",
   "metadata": {},
   "outputs": [
    {
     "name": "stdout",
     "output_type": "stream",
     "text": [
      "                            OLS Regression Results                            \n",
      "==============================================================================\n",
      "Dep. Variable:             gold_mined   R-squared:                       0.737\n",
      "Model:                            OLS   Adj. R-squared:                  0.737\n",
      "Method:                 Least Squares   F-statistic:                     2700.\n",
      "Date:                Sat, 30 Oct 2021   Prob (F-statistic):               0.00\n",
      "Time:                        19:15:26   Log-Likelihood:                -65413.\n",
      "No. Observations:               13493   AIC:                         1.309e+05\n",
      "Df Residuals:                   13478   BIC:                         1.310e+05\n",
      "Df Model:                          14                                         \n",
      "Covariance Type:            nonrobust                                         \n",
      "===================================================================================\n",
      "                      coef    std err          t      P>|t|      [0.025      0.975]\n",
      "-----------------------------------------------------------------------------------\n",
      "const             560.0921      1.224    457.418      0.000     557.692     562.492\n",
      "tool_generation    16.6768      1.039     16.046      0.000      14.640      18.714\n",
      "work_experience    -0.3806      0.003   -108.868      0.000      -0.387      -0.374\n",
      "days_count          0.0343      0.004      9.016      0.000       0.027       0.042\n",
      "1                  49.1699      1.181     41.617      0.000      46.854      51.486\n",
      "2                  49.7271      1.030     48.290      0.000      47.709      51.746\n",
      "3                  48.9948      0.977     50.125      0.000      47.079      50.911\n",
      "4                  47.0684      0.935     50.327      0.000      45.235      48.902\n",
      "5                  46.2583      0.881     52.504      0.000      44.531      47.985\n",
      "6                  45.3313      0.846     53.580      0.000      43.673      46.990\n",
      "7                  44.6842      0.806     55.407      0.000      43.103      46.265\n",
      "8                  43.9830      0.826     53.217      0.000      42.363      45.603\n",
      "9                  47.8297      1.791     26.709      0.000      44.320      51.340\n",
      "10                 46.7129      1.516     30.823      0.000      43.742      49.684\n",
      "11                 44.4553      1.394     31.881      0.000      41.722      47.188\n",
      "12                 45.8772      1.293     35.490      0.000      43.343      48.411\n",
      "==============================================================================\n",
      "Omnibus:                        0.818   Durbin-Watson:                   1.961\n",
      "Prob(Omnibus):                  0.664   Jarque-Bera (JB):                0.786\n",
      "Skew:                           0.012   Prob(JB):                        0.675\n",
      "Kurtosis:                       3.029   Cond. No.                     2.40e+18\n",
      "==============================================================================\n",
      "\n",
      "Notes:\n",
      "[1] Standard Errors assume that the covariance matrix of the errors is correctly specified.\n",
      "[2] The smallest eigenvalue is 6.42e-28. This might indicate that there are\n",
      "strong multicollinearity problems or that the design matrix is singular.\n"
     ]
    }
   ],
   "source": [
    "x = sm.add_constant(x)\n",
    "\n",
    "model = sm.OLS(y, x)\n",
    "results = model.fit()\n",
    "print(results.summary())"
   ]
  },
  {
   "cell_type": "code",
   "execution_count": 119,
   "id": "63519cf1",
   "metadata": {},
   "outputs": [
    {
     "name": "stdout",
     "output_type": "stream",
     "text": [
      "                            OLS Regression Results                            \n",
      "==============================================================================\n",
      "Dep. Variable:             gold_mined   R-squared:                       0.736\n",
      "Model:                            OLS   Adj. R-squared:                  0.736\n",
      "Method:                 Least Squares   F-statistic:                 1.256e+04\n",
      "Date:                Sat, 30 Oct 2021   Prob (F-statistic):               0.00\n",
      "Time:                        19:15:28   Log-Likelihood:                -65432.\n",
      "No. Observations:               13493   AIC:                         1.309e+05\n",
      "Df Residuals:                   13489   BIC:                         1.309e+05\n",
      "Df Model:                           3                                         \n",
      "Covariance Type:            nonrobust                                         \n",
      "===================================================================================\n",
      "                      coef    std err          t      P>|t|      [0.025      0.975]\n",
      "-----------------------------------------------------------------------------------\n",
      "const             609.3711      1.164    523.674      0.000     607.090     611.652\n",
      "tool_generation    16.6849      1.002     16.657      0.000      14.722      18.648\n",
      "work_experience    -0.3796      0.003   -111.108      0.000      -0.386      -0.373\n",
      "days_count          0.0272      0.003      7.959      0.000       0.020       0.034\n",
      "==============================================================================\n",
      "Omnibus:                        0.838   Durbin-Watson:                   1.968\n",
      "Prob(Omnibus):                  0.658   Jarque-Bera (JB):                0.806\n",
      "Skew:                           0.010   Prob(JB):                        0.668\n",
      "Kurtosis:                       3.032   Cond. No.                     2.48e+03\n",
      "==============================================================================\n",
      "\n",
      "Notes:\n",
      "[1] Standard Errors assume that the covariance matrix of the errors is correctly specified.\n",
      "[2] The condition number is large, 2.48e+03. This might indicate that there are\n",
      "strong multicollinearity or other numerical problems.\n"
     ]
    }
   ],
   "source": [
    "x_test = sm.add_constant(x_test)\n",
    "\n",
    "model = sm.OLS(y, x_test)\n",
    "results = model.fit()\n",
    "print(results.summary())"
   ]
  },
  {
   "cell_type": "markdown",
   "id": "606c2ac6",
   "metadata": {},
   "source": [
    "Вывод: Вес предиктора tool_generation имеет доверительный интервал с уровнем доверия, 95 % = [14.722, 18.648], что является подтверждением H1 о том, что присутствует разница между поколениями инструмента, причем новое поколение показывает себя лучше.\n",
    "Замечания: Мы использовали один набор данных для обучения и проверки модели, это не очень хорошо, но для линейной регрессии это допустимо. Коэффициент R-squared = 0.74 на мой взгляд говорит о том, что линейная регрессия вполне подходит для наших данных, но далеко не идеально может их предсказывать."
   ]
  },
  {
   "cell_type": "markdown",
   "id": "3e53d0b8",
   "metadata": {},
   "source": [
    "Ниже идут графики которые не попали в финальный отчет, но помогли мне лучше понять данные.\n",
    "Я оставлю к ним комментарии тоже."
   ]
  },
  {
   "cell_type": "markdown",
   "id": "6ffc5392",
   "metadata": {},
   "source": [
    "Гистограмы показывающие какое количество записей (ось y) было внесенно с конкретным опытом работы в днях (ось x) для разного поколения инструмента."
   ]
  },
  {
   "cell_type": "code",
   "execution_count": 120,
   "id": "53b60e64",
   "metadata": {},
   "outputs": [
    {
     "data": {
      "text/plain": [
       "<AxesSubplot:>"
      ]
     },
     "execution_count": 120,
     "metadata": {},
     "output_type": "execute_result"
    },
    {
     "data": {
      "image/png": "[encoded data removed]",
      "text/plain": [
       "<Figure size 432x288 with 1 Axes>"
      ]
     },
     "metadata": {
      "needs_background": "light"
     },
     "output_type": "display_data"
    }
   ],
   "source": [
    "data[data['tool_generation'] == 0]['work_experience'].hist()"
   ]
  },
  {
   "cell_type": "code",
   "execution_count": 121,
   "id": "b28f0266",
   "metadata": {},
   "outputs": [
    {
     "data": {
      "text/plain": [
       "<AxesSubplot:>"
      ]
     },
     "execution_count": 121,
     "metadata": {},
     "output_type": "execute_result"
    },
    {
     "data": {
      "image/png": "[encoded data removed]",
      "text/plain": [
       "<Figure size 432x288 with 1 Axes>"
      ]
     },
     "metadata": {
      "needs_background": "light"
     },
     "output_type": "display_data"
    }
   ],
   "source": [
    "data[data['tool_generation'] == 1]['work_experience'].hist()"
   ]
  },
  {
   "cell_type": "markdown",
   "id": "5ab1bb4f",
   "metadata": {},
   "source": [
    "График показывающий в какие месяцы работали гномы с разным поколением инструмента."
   ]
  },
  {
   "cell_type": "code",
   "execution_count": 122,
   "id": "e44ddb3e",
   "metadata": {},
   "outputs": [
    {
     "data": {
      "image/png": "[encoded data removed]",
      "text/plain": [
       "<Figure size 432x288 with 1 Axes>"
      ]
     },
     "metadata": {
      "needs_background": "light"
     },
     "output_type": "display_data"
    }
   ],
   "source": [
    "data.plot(x=\"reported_date\", y=\"tool_generation\", kind=\"scatter\")\n",
    "plt.show()"
   ]
  },
  {
   "cell_type": "markdown",
   "id": "8ae7f114",
   "metadata": {},
   "source": [
    "Странные графики которые показывают то, что с увеличением опыта работа уменьшается количество добытого золота, логично предположить, что связь косвенная. Однако можно так же предположить, что гномы со временем начинают халтурить."
   ]
  },
  {
   "cell_type": "code",
   "execution_count": 124,
   "id": "64407d9f",
   "metadata": {},
   "outputs": [
    {
     "data": {
      "image/png": "[encoded data removed]",
      "text/plain": [
       "<Figure size 432x288 with 1 Axes>"
      ]
     },
     "metadata": {
      "needs_background": "light"
     },
     "output_type": "display_data"
    },
    {
     "data": {
      "image/png": "[encoded data removed]",
      "text/plain": [
       "<Figure size 432x288 with 1 Axes>"
      ]
     },
     "metadata": {
      "needs_background": "light"
     },
     "output_type": "display_data"
    },
    {
     "data": {
      "image/png": "[encoded data removed]",
      "text/plain": [
       "<Figure size 432x288 with 1 Axes>"
      ]
     },
     "metadata": {
      "needs_background": "light"
     },
     "output_type": "display_data"
    }
   ],
   "source": [
    "data.plot(x=\"work_experience\", y=\"gold_mined\", kind=\"scatter\", title = 'Зависимость добытого золота от опыта работы')\n",
    "plt.show()\n",
    "data[data['tool_generation'] == 0].plot(x=\"work_experience\", y=\"gold_mined\", kind=\"scatter\", title = 'Зависимость добытого золота от опыта работы для инструмента 0 поколения')\n",
    "plt.show()\n",
    "data[data['tool_generation'] == 1].plot(x=\"work_experience\", y=\"gold_mined\", kind=\"scatter\", title = 'Зависимость добытого золота от опыта работы для инструмента 1 поколения')\n",
    "plt.show()"
   ]
  },
  {
   "cell_type": "markdown",
   "id": "dea1d0f4",
   "metadata": {},
   "source": [
    "Странные графики которые показывают то, что с течением времени немного уменьшается среднее количество добытого золота и достаточно сильно растет размах. Небольшой рост в центре связан как раз с внедрением инструментов нового поколения. Возможно это можно включить в основную часть отчета."
   ]
  },
  {
   "cell_type": "code",
   "execution_count": 125,
   "id": "48584b55",
   "metadata": {},
   "outputs": [
    {
     "data": {
      "image/png": "[encoded data removed]",
      "text/plain": [
       "<Figure size 432x288 with 1 Axes>"
      ]
     },
     "metadata": {
      "needs_background": "light"
     },
     "output_type": "display_data"
    },
    {
     "data": {
      "image/png": "[encoded data removed]",
      "text/plain": [
       "<Figure size 432x288 with 1 Axes>"
      ]
     },
     "metadata": {
      "needs_background": "light"
     },
     "output_type": "display_data"
    },
    {
     "data": {
      "image/png": "[encoded data removed]",
      "text/plain": [
       "<Figure size 432x288 with 1 Axes>"
      ]
     },
     "metadata": {
      "needs_background": "light"
     },
     "output_type": "display_data"
    }
   ],
   "source": [
    "data.plot(x=\"reported_date\", y=\"gold_mined\", kind=\"scatter\", title = 'Зависимость добытого золота от месяца добычи')\n",
    "plt.show()\n",
    "data[data['tool_generation'] == 0].plot(x=\"reported_date\", y=\"gold_mined\", kind=\"scatter\", title = 'Зависимость добытого золота от месяца добычи для инструмента 0 поколения')\n",
    "plt.show()\n",
    "data[data['tool_generation'] == 1].plot(x=\"reported_date\", y=\"gold_mined\", kind=\"scatter\", title = 'Зависимость добытого золота от месяца добычи для инструмента 1 поколения')\n",
    "plt.show()"
   ]
  },
  {
   "cell_type": "markdown",
   "id": "f34a3027",
   "metadata": {},
   "source": [
    "Не смог найти применение этим бокс плотам."
   ]
  },
  {
   "cell_type": "code",
   "execution_count": 89,
   "id": "45f4abab",
   "metadata": {},
   "outputs": [
    {
     "data": {
      "image/png": "[encoded data removed]",
      "text/plain": [
       "<Figure size 432x288 with 1 Axes>"
      ]
     },
     "metadata": {
      "needs_background": "light"
     },
     "output_type": "display_data"
    },
    {
     "data": {
      "image/png": "[encoded data removed]",
      "text/plain": [
       "<Figure size 432x288 with 1 Axes>"
      ]
     },
     "metadata": {
      "needs_background": "light"
     },
     "output_type": "display_data"
    },
    {
     "data": {
      "image/png": "[encoded data removed]",
      "text/plain": [
       "<Figure size 432x288 with 1 Axes>"
      ]
     },
     "metadata": {
      "needs_background": "light"
     },
     "output_type": "display_data"
    }
   ],
   "source": [
    "data.plot(y=\"gold_mined\", kind=\"box\")\n",
    "plt.show()\n",
    "data[data['tool_generation'] == 0].plot(y=\"gold_mined\", kind=\"box\")\n",
    "plt.show()\n",
    "data[data['tool_generation'] == 1].plot(y=\"gold_mined\", kind=\"box\")\n",
    "plt.show()"
   ]
  },
  {
   "cell_type": "markdown",
   "id": "d28e7857",
   "metadata": {},
   "source": [
    "Похоже гномов не увольняют с работы."
   ]
  },
  {
   "cell_type": "code",
   "execution_count": 90,
   "id": "4eb49568",
   "metadata": {},
   "outputs": [
    {
     "data": {
      "text/plain": [
       "dwarf_id\n",
       "1       607.0\n",
       "2       607.0\n",
       "3       607.0\n",
       "4       607.0\n",
       "5       607.0\n",
       "        ...  \n",
       "2673     30.0\n",
       "2674     30.0\n",
       "2675     30.0\n",
       "2676     30.0\n",
       "2677     30.0\n",
       "Name: work_experience, Length: 2677, dtype: float64"
      ]
     },
     "execution_count": 90,
     "metadata": {},
     "output_type": "execute_result"
    }
   ],
   "source": [
    "data.groupby(['dwarf_id'])['work_experience'].max()"
   ]
  },
  {
   "cell_type": "code",
   "execution_count": 91,
   "id": "fd0fac74",
   "metadata": {},
   "outputs": [
    {
     "data": {
      "text/plain": [
       "<AxesSubplot:xlabel='dwarf_id'>"
      ]
     },
     "execution_count": 91,
     "metadata": {},
     "output_type": "execute_result"
    },
    {
     "data": {
      "image/png": "[encoded data removed]",
      "text/plain": [
       "<Figure size 432x288 with 1 Axes>"
      ]
     },
     "metadata": {
      "needs_background": "light"
     },
     "output_type": "display_data"
    }
   ],
   "source": [
    "data.groupby(['dwarf_id'])['work_experience'].max().plot()"
   ]
  },
  {
   "cell_type": "markdown",
   "id": "8ab3efdc",
   "metadata": {},
   "source": [
    "Штат сильно растет последние 3 месяца, поэтому значительная часть гномов имеет опыт работы меньше 100 дней."
   ]
  },
  {
   "cell_type": "code",
   "execution_count": 92,
   "id": "9de968d4",
   "metadata": {},
   "outputs": [
    {
     "data": {
      "text/plain": [
       "<AxesSubplot:>"
      ]
     },
     "execution_count": 92,
     "metadata": {},
     "output_type": "execute_result"
    },
    {
     "data": {
      "image/png": "[encoded data removed]",
      "text/plain": [
       "<Figure size 432x288 with 1 Axes>"
      ]
     },
     "metadata": {
      "needs_background": "light"
     },
     "output_type": "display_data"
    }
   ],
   "source": [
    "data.groupby(['dwarf_id'])['work_experience'].max().hist()"
   ]
  },
  {
   "cell_type": "markdown",
   "id": "a9c6b2e1",
   "metadata": {},
   "source": [
    "Проверка на то, что гном не менял инструмент и всю карьеру работает одним и тем же."
   ]
  },
  {
   "cell_type": "code",
   "execution_count": 93,
   "id": "6687436c",
   "metadata": {},
   "outputs": [
    {
     "data": {
      "text/plain": [
       "1.0"
      ]
     },
     "execution_count": 93,
     "metadata": {},
     "output_type": "execute_result"
    }
   ],
   "source": [
    "data.groupby(['dwarf_id'])['tool_generation'].nunique().mean()"
   ]
  },
  {
   "cell_type": "markdown",
   "id": "eccb109c",
   "metadata": {},
   "source": [
    "Гномов работающих новым инструментом на момент конца исследования в 4 раза больше, чем гномов работающих старым."
   ]
  },
  {
   "cell_type": "code",
   "execution_count": 94,
   "id": "3614da1a",
   "metadata": {},
   "outputs": [
    {
     "data": {
      "text/plain": [
       "tool_generation\n",
       "0     531\n",
       "1    2146\n",
       "Name: dwarf_id, dtype: int64"
      ]
     },
     "execution_count": 94,
     "metadata": {},
     "output_type": "execute_result"
    }
   ],
   "source": [
    "data.groupby(['tool_generation'])['dwarf_id'].nunique()"
   ]
  },
  {
   "cell_type": "markdown",
   "id": "e05c644e",
   "metadata": {},
   "source": [
    "В среднем гном работающий с инструментом старого поколения успел отработать почти 14 месяцев, а гном работающий с инструментом нового поколения всего 3."
   ]
  },
  {
   "cell_type": "code",
   "execution_count": 95,
   "id": "f0c871f5",
   "metadata": {},
   "outputs": [
    {
     "data": {
      "text/html": [
       "<div>\n",
       "<style scoped>\n",
       "    .dataframe tbody tr th:only-of-type {\n",
       "        vertical-align: middle;\n",
       "    }\n",
       "\n",
       "    .dataframe tbody tr th {\n",
       "        vertical-align: top;\n",
       "    }\n",
       "\n",
       "    .dataframe thead th {\n",
       "        text-align: right;\n",
       "    }\n",
       "</style>\n",
       "<table border=\"1\" class=\"dataframe\">\n",
       "  <thead>\n",
       "    <tr style=\"text-align: right;\">\n",
       "      <th></th>\n",
       "      <th>reported_date</th>\n",
       "      <th>gold_mined</th>\n",
       "      <th>work_experience</th>\n",
       "      <th>days_count</th>\n",
       "      <th>1</th>\n",
       "      <th>2</th>\n",
       "      <th>3</th>\n",
       "      <th>4</th>\n",
       "      <th>5</th>\n",
       "      <th>6</th>\n",
       "      <th>7</th>\n",
       "      <th>8</th>\n",
       "      <th>9</th>\n",
       "      <th>10</th>\n",
       "      <th>11</th>\n",
       "      <th>12</th>\n",
       "    </tr>\n",
       "    <tr>\n",
       "      <th>tool_generation</th>\n",
       "      <th></th>\n",
       "      <th></th>\n",
       "      <th></th>\n",
       "      <th></th>\n",
       "      <th></th>\n",
       "      <th></th>\n",
       "      <th></th>\n",
       "      <th></th>\n",
       "      <th></th>\n",
       "      <th></th>\n",
       "      <th></th>\n",
       "      <th></th>\n",
       "      <th></th>\n",
       "      <th></th>\n",
       "      <th></th>\n",
       "      <th></th>\n",
       "    </tr>\n",
       "  </thead>\n",
       "  <tbody>\n",
       "    <tr>\n",
       "      <th>0</th>\n",
       "      <td>12.762712</td>\n",
       "      <td>12.762712</td>\n",
       "      <td>12.762712</td>\n",
       "      <td>12.762712</td>\n",
       "      <td>12.762712</td>\n",
       "      <td>12.762712</td>\n",
       "      <td>12.762712</td>\n",
       "      <td>12.762712</td>\n",
       "      <td>12.762712</td>\n",
       "      <td>12.762712</td>\n",
       "      <td>12.762712</td>\n",
       "      <td>12.762712</td>\n",
       "      <td>12.762712</td>\n",
       "      <td>12.762712</td>\n",
       "      <td>12.762712</td>\n",
       "      <td>12.762712</td>\n",
       "    </tr>\n",
       "    <tr>\n",
       "      <th>1</th>\n",
       "      <td>3.129543</td>\n",
       "      <td>3.129543</td>\n",
       "      <td>3.129543</td>\n",
       "      <td>3.129543</td>\n",
       "      <td>3.129543</td>\n",
       "      <td>3.129543</td>\n",
       "      <td>3.129543</td>\n",
       "      <td>3.129543</td>\n",
       "      <td>3.129543</td>\n",
       "      <td>3.129543</td>\n",
       "      <td>3.129543</td>\n",
       "      <td>3.129543</td>\n",
       "      <td>3.129543</td>\n",
       "      <td>3.129543</td>\n",
       "      <td>3.129543</td>\n",
       "      <td>3.129543</td>\n",
       "    </tr>\n",
       "  </tbody>\n",
       "</table>\n",
       "</div>"
      ],
      "text/plain": [
       "                 reported_date  gold_mined  work_experience  days_count  \\\n",
       "tool_generation                                                           \n",
       "0                    12.762712   12.762712        12.762712   12.762712   \n",
       "1                     3.129543    3.129543         3.129543    3.129543   \n",
       "\n",
       "                         1          2          3          4          5  \\\n",
       "tool_generation                                                          \n",
       "0                12.762712  12.762712  12.762712  12.762712  12.762712   \n",
       "1                 3.129543   3.129543   3.129543   3.129543   3.129543   \n",
       "\n",
       "                         6          7          8          9         10  \\\n",
       "tool_generation                                                          \n",
       "0                12.762712  12.762712  12.762712  12.762712  12.762712   \n",
       "1                 3.129543   3.129543   3.129543   3.129543   3.129543   \n",
       "\n",
       "                        11         12  \n",
       "tool_generation                        \n",
       "0                12.762712  12.762712  \n",
       "1                 3.129543   3.129543  "
      ]
     },
     "execution_count": 95,
     "metadata": {},
     "output_type": "execute_result"
    }
   ],
   "source": [
    "data.groupby(['tool_generation', 'dwarf_id']).count().groupby(['tool_generation']).mean()"
   ]
  },
  {
   "cell_type": "code",
   "execution_count": 96,
   "id": "c55e7794",
   "metadata": {},
   "outputs": [
    {
     "data": {
      "text/plain": [
       "tool_generation  dwarf_id\n",
       "0                1           503.60\n",
       "                 2           503.25\n",
       "                 3           494.90\n",
       "                 4           502.50\n",
       "                 5           506.80\n",
       "                              ...  \n",
       "1                2673        695.00\n",
       "                 2674        573.00\n",
       "                 2675        617.00\n",
       "                 2676        609.00\n",
       "                 2677        622.00\n",
       "Name: gold_mined, Length: 2677, dtype: float64"
      ]
     },
     "execution_count": 96,
     "metadata": {},
     "output_type": "execute_result"
    }
   ],
   "source": [
    "data.groupby(['tool_generation', 'dwarf_id'])['gold_mined'].mean()"
   ]
  },
  {
   "cell_type": "markdown",
   "id": "847a4ba5",
   "metadata": {},
   "source": [
    "Наглядное сравнение гистограм."
   ]
  },
  {
   "cell_type": "code",
   "execution_count": 127,
   "id": "330bd65a",
   "metadata": {},
   "outputs": [
    {
     "data": {
      "text/plain": [
       "tool_generation\n",
       "0    AxesSubplot(0.125,0.125;0.775x0.755)\n",
       "1    AxesSubplot(0.125,0.125;0.775x0.755)\n",
       "Name: gold_mined, dtype: object"
      ]
     },
     "execution_count": 127,
     "metadata": {},
     "output_type": "execute_result"
    },
    {
     "data": {
      "image/png": "[encoded data removed]",
      "text/plain": [
       "<Figure size 432x288 with 1 Axes>"
      ]
     },
     "metadata": {
      "needs_background": "light"
     },
     "output_type": "display_data"
    }
   ],
   "source": [
    "data.groupby(['tool_generation'])['gold_mined'].hist()"
   ]
  },
  {
   "cell_type": "code",
   "execution_count": 128,
   "id": "7d7646fc",
   "metadata": {},
   "outputs": [],
   "source": [
    "data1 = data.groupby(['tool_generation', 'dwarf_id']).mean()"
   ]
  },
  {
   "cell_type": "code",
   "execution_count": 129,
   "id": "e581f94c",
   "metadata": {},
   "outputs": [],
   "source": [
    "mask1 = []\n",
    "for i in data1.index: \n",
    "    mask1.append(0 in i)\n",
    "    \n",
    "mask2 = [] \n",
    "for i in data1.index: \n",
    "    mask2.append(0 not in i)\n",
    "    \n",
    "new_index = []\n",
    "for i in data1.index:\n",
    "    new_index.append(i[1])\n",
    "    \n",
    "data1.index = new_index"
   ]
  },
  {
   "cell_type": "markdown",
   "id": "090937ff",
   "metadata": {},
   "source": [
    "Тут тоже можно увидеть импакт внедрения инструментов второго поколения на стыке синего и оранжевого графиков."
   ]
  },
  {
   "cell_type": "code",
   "execution_count": 130,
   "id": "abb65f6f",
   "metadata": {},
   "outputs": [
    {
     "data": {
      "image/png": "[encoded data removed]",
      "text/plain": [
       "<Figure size 432x288 with 1 Axes>"
      ]
     },
     "metadata": {
      "needs_background": "light"
     },
     "output_type": "display_data"
    }
   ],
   "source": [
    "data1[mask1]['gold_mined'].plot()\n",
    "data1[mask2]['gold_mined'].plot()\n",
    "plt.show()"
   ]
  },
  {
   "cell_type": "code",
   "execution_count": 131,
   "id": "e44ca1a2",
   "metadata": {},
   "outputs": [
    {
     "data": {
      "image/png": "[encoded data removed]",
      "text/plain": [
       "<Figure size 432x288 with 1 Axes>"
      ]
     },
     "metadata": {
      "needs_background": "light"
     },
     "output_type": "display_data"
    }
   ],
   "source": [
    "data3 = data1[mask1]\n",
    "x = data3.index\n",
    "y = data3['gold_mined']\n",
    "plt.scatter(x, y)\n",
    "\n",
    "z = np.polyfit(x, y, 1)\n",
    "p = np.poly1d(z)\n",
    "plt.plot(x,p(x),\"r--\")\n",
    "\n",
    "plt.show()"
   ]
  },
  {
   "cell_type": "code",
   "execution_count": 132,
   "id": "d87c02e7",
   "metadata": {},
   "outputs": [
    {
     "data": {
      "image/png": "[encoded data removed]",
      "text/plain": [
       "<Figure size 432x288 with 1 Axes>"
      ]
     },
     "metadata": {
      "needs_background": "light"
     },
     "output_type": "display_data"
    }
   ],
   "source": [
    "data3 = data1[mask2]\n",
    "x = data3.index\n",
    "y = data3['gold_mined']\n",
    "plt.scatter(x, y)\n",
    "\n",
    "z = np.polyfit(x, y, 1)\n",
    "p = np.poly1d(z)\n",
    "plt.plot(x,p(x),\"r--\")\n",
    "\n",
    "plt.show()"
   ]
  }
 ],
 "metadata": {
  "kernelspec": {
   "display_name": "Python 3",
   "language": "python",
   "name": "python3"
  },
  "language_info": {
   "codemirror_mode": {
    "name": "ipython",
    "version": 3
   },
   "file_extension": ".py",
   "mimetype": "text/x-python",
   "name": "python",
   "nbconvert_exporter": "python",
   "pygments_lexer": "ipython3",
   "version": "3.8.8"
  }
 },
 "nbformat": 4,
 "nbformat_minor": 5
}
